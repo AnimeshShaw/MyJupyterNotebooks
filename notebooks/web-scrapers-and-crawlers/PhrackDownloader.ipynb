{
 "cells": [
  {
   "cell_type": "code",
   "execution_count": 2,
   "metadata": {
    "collapsed": false
   },
   "outputs": [
    {
     "name": "stdout",
     "output_type": "stream",
     "text": [
      "Now downloading: phrack1.tar.gz\n",
      "Now downloading: phrack10.tar.gz\n",
      "Now downloading: phrack11.tar.gz\n",
      "Now downloading: phrack12.tar.gz\n",
      "Now downloading: phrack13.tar.gz\n",
      "Now downloading: phrack14.tar.gz\n",
      "Now downloading: phrack15.tar.gz\n",
      "Now downloading: phrack16.tar.gz\n",
      "Now downloading: phrack17.tar.gz\n",
      "Now downloading: phrack18.tar.gz\n",
      "Now downloading: phrack19.tar.gz\n",
      "Now downloading: phrack2.tar.gz\n",
      "Now downloading: phrack20.tar.gz\n",
      "Now downloading: phrack21.tar.gz\n",
      "Now downloading: phrack22.tar.gz\n",
      "Now downloading: phrack23.tar.gz\n",
      "Now downloading: phrack24.tar.gz\n",
      "Now downloading: phrack25.tar.gz\n",
      "Now downloading: phrack26.tar.gz\n",
      "Now downloading: phrack27.tar.gz\n",
      "Now downloading: phrack28.tar.gz\n",
      "Now downloading: phrack29.tar.gz\n",
      "Now downloading: phrack3.tar.gz\n",
      "Now downloading: phrack30.tar.gz\n",
      "Now downloading: phrack31.tar.gz\n",
      "Now downloading: phrack32.tar.gz\n",
      "Now downloading: phrack33.tar.gz\n",
      "Now downloading: phrack34.tar.gz\n",
      "Now downloading: phrack35.tar.gz\n",
      "Now downloading: phrack36.tar.gz\n",
      "Now downloading: phrack37.tar.gz\n",
      "Now downloading: phrack38.tar.gz\n",
      "Now downloading: phrack39.tar.gz\n",
      "Now downloading: phrack4.tar.gz\n",
      "Now downloading: phrack40.tar.gz\n",
      "Now downloading: phrack41.tar.gz\n",
      "Now downloading: phrack42.tar.gz\n",
      "Now downloading: phrack43.tar.gz\n",
      "Now downloading: phrack44.tar.gz\n",
      "Now downloading: phrack45.tar.gz\n",
      "Now downloading: phrack46.tar.gz\n",
      "Now downloading: phrack47.tar.gz\n",
      "Now downloading: phrack48.tar.gz\n",
      "Now downloading: phrack49.tar.gz\n",
      "Now downloading: phrack5.tar.gz\n",
      "Now downloading: phrack50.tar.gz\n",
      "Now downloading: phrack51.tar.gz\n",
      "Now downloading: phrack52.tar.gz\n",
      "Now downloading: phrack53.tar.gz\n",
      "Now downloading: phrack54.tar.gz\n",
      "Now downloading: phrack55.tar.gz\n",
      "Now downloading: phrack56.tar.gz\n",
      "Now downloading: phrack57.tar.gz\n",
      "Now downloading: phrack58.tar.gz\n",
      "Now downloading: phrack59.tar.gz\n",
      "Now downloading: phrack6.tar.gz\n",
      "Now downloading: phrack60.tar.gz\n",
      "Now downloading: phrack61.tar.gz\n",
      "Now downloading: phrack62.tar.gz\n",
      "Now downloading: phrack63.tar.gz\n",
      "Now downloading: phrack64.tar.gz\n",
      "Now downloading: phrack65.tar.gz\n",
      "Now downloading: phrack66.tar.gz\n",
      "Now downloading: phrack67.tar.gz\n",
      "Now downloading: phrack68.tar.gz\n",
      "Now downloading: phrack69.tar.gz\n",
      "Now downloading: phrack7.tar.gz\n",
      "Now downloading: phrack8.tar.gz\n",
      "Now downloading: phrack9.tar.gz\n",
      "\n",
      "Download Complete.\n"
     ]
    }
   ],
   "source": [
    "import re\n",
    "import shutil\n",
    "from urllib.request import urlopen, urlretrieve\n",
    "\n",
    "BASE_URL = \"http://phrack.org/archives/tgz/\"\n",
    "\n",
    "with urlopen(BASE_URL) as resp:\n",
    "    html = resp.read()\n",
    "    links = re.findall(r'<A HREF=\"(.*?)\">', str(html))[5:]\n",
    "    \n",
    "    shutil.os.mkdir('phrack-files')\n",
    "    shutil.os.chdir('phrack-files')\n",
    "    \n",
    "    for link in links:\n",
    "        print('Now downloading: ' + link)\n",
    "        if not shutil.os.path.exists(link):\n",
    "            with urlopen(BASE_URL + link) as resp, open(link, 'wb') as fobj:\n",
    "                shutil.copyfileobj(resp, fobj)\n",
    "    print(\"\\nDownload Complete.\")"
   ]
  },
  {
   "cell_type": "code",
   "execution_count": null,
   "metadata": {
    "collapsed": true
   },
   "outputs": [],
   "source": []
  }
 ],
 "metadata": {
  "kernelspec": {
   "display_name": "Python 3",
   "language": "python",
   "name": "python3"
  },
  "language_info": {
   "codemirror_mode": {
    "name": "ipython",
    "version": 3
   },
   "file_extension": ".py",
   "mimetype": "text/x-python",
   "name": "python",
   "nbconvert_exporter": "python",
   "pygments_lexer": "ipython3",
   "version": "3.5.2"
  }
 },
 "nbformat": 4,
 "nbformat_minor": 0
}
